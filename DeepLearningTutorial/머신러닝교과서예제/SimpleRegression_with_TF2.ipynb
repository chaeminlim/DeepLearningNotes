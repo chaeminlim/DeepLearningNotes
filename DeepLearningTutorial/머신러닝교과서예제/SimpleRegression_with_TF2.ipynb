{
 "cells": [
  {
   "cell_type": "code",
   "execution_count": 1,
   "metadata": {},
   "outputs": [
    {
     "name": "stdout",
     "output_type": "stream",
     "text": [
      "2.0.0\n"
     ]
    }
   ],
   "source": [
    "from __future__ import absolute_import, division, print_function, unicode_literals\n",
    "\n",
    "import tensorflow as tf\n",
    "print(tf.__version__)"
   ]
  },
  {
   "cell_type": "markdown",
   "metadata": {},
   "source": [
    "텐서플로는 노드 집합으로 구성된 계산 그래프를 바탕으로 한다. 각 노드는 0 개 이상의 입력이나 출력을 가지는 연산을 나타낸다.\n",
    "계산 그래프의 에지를 따라 이동하는 값을 텐서라고 한다.\n",
    "\n",
    "텐서플로 1.5.0 버전에서는 계산 그래프를 만들지 않고 텐서를 즉시 평가할 수 있는 즉시 실행 기능이 추가되었다.\n",
    "텐서플로 2,x에서는 즉시 실행 모드가 기본으로 활성화되어 있어서 텐서 값을 바로 확인할 수 있다.\n",
    "\n",
    "텐서는 스칼라, 벡터, 행렬 등이 일반화된 것으로 생각할 수 있다.\n",
    "\n",
    "텐서플로 1.x에서는 계산 그래프가 굿어된 후 텐서플로의 Sessio을 통해 그래프에 있는 각 노드를 실행한다.\n",
    "텐서플로 2.x버전에서 이와 관련된 연산은 tensorflow.compat.v1으로 이동되었다.\n"
   ]
  },
  {
   "cell_type": "markdown",
   "metadata": {},
   "source": [
    "## tensorflow 1 구현"
   ]
  },
  {
   "cell_type": "code",
   "execution_count": 2,
   "metadata": {},
   "outputs": [
    {
     "name": "stdout",
     "output_type": "stream",
     "text": [
      "WARNING:tensorflow:From C:\\Users\\Chae Min Lim\\AppData\\Roaming\\Python\\Python37\\site-packages\\tensorflow_core\\python\\ops\\resource_variable_ops.py:1630: calling BaseResourceVariable.__init__ (from tensorflow.python.ops.resource_variable_ops) with constraint is deprecated and will be removed in a future version.\n",
      "Instructions for updating:\n",
      "If using Keras pass *_constraint arguments to layers.\n",
      "x= 1.0 --> z= 2.7\n",
      "x= 0.6 --> z= 1.9\n",
      "x=-1.8 --> z=-2.9\n"
     ]
    }
   ],
   "source": [
    "g = tf.Graph()\n",
    "with g.as_default():\n",
    "    x = tf.compat.v1.placeholder(dtype = tf.float32, shape=(None ), name='x')\n",
    "    w = tf.Variable(2.0, name='weight')\n",
    "    b = tf.Variable(0.7, name='bias')\n",
    "    \n",
    "    z = w *x + b\n",
    "    \n",
    "    init = tf.compat.v1.global_variables_initializer()\n",
    "    \n",
    "## 세션을 만들고 그래프 g를 전달한다.\n",
    "\n",
    "with tf.compat.v1.Session(graph = g ) as sess:\n",
    "    ## w와 b를 초기화한다.\n",
    "    sess.run(init)\n",
    "    ## z를 평가한다.\n",
    "    for t in [1.0, 0.6, -1.8]:\n",
    "        print('x=%4.1f --> z=%4.1f' %(t, sess.run(z, feed_dict={x:t})))"
   ]
  },
  {
   "cell_type": "markdown",
   "metadata": {},
   "source": [
    "## tensorflow 2 방식 구현"
   ]
  },
  {
   "cell_type": "code",
   "execution_count": 3,
   "metadata": {},
   "outputs": [
    {
     "name": "stdout",
     "output_type": "stream",
     "text": [
      "Tensor(\"add:0\", dtype=float32)\n",
      "x= 1.0 --> z= 2.7\n",
      "Tensor(\"add:0\", dtype=float32)\n",
      "x= 0.6 --> z= 1.9\n",
      "Tensor(\"add:0\", dtype=float32)\n",
      "x=-1.8 --> z=-2.9\n"
     ]
    }
   ],
   "source": [
    "W = tf.Variable(2.0, name='Weight')\n",
    "B = tf.Variable(0.7, name='Bias')\n",
    "\n",
    "for x in [1.0, 0.6, -1.8]:\n",
    "    Z = W * x + B\n",
    "    print(z)\n",
    "    print('x=%4.1f --> z=%4.1f' %(x, Z))"
   ]
  },
  {
   "cell_type": "markdown",
   "metadata": {},
   "source": [
    "## 배열 구조 다루기"
   ]
  },
  {
   "cell_type": "markdown",
   "metadata": {},
   "source": [
    "텐서플로에서 배열 구조를 다루는 방법. "
   ]
  },
  {
   "cell_type": "code",
   "execution_count": 5,
   "metadata": {},
   "outputs": [
    {
     "name": "stdout",
     "output_type": "stream",
     "text": [
      "입력 크기: (3, 2, 3)\n",
      "크기가 변경된 입력\n",
      " [[ 0  1  2  3  4  5]\n",
      " [ 6  7  8  9 10 11]\n",
      " [12 13 14 15 16 17]]\n",
      "열의 합\n",
      " [18 21 24 27 30 33]\n",
      "열의 평균\n",
      " [ 6  7  8  9 10 11]\n"
     ]
    }
   ],
   "source": [
    "import tensorflow as tf\n",
    "import numpy as np\n",
    "\n",
    "# => True\n",
    "\n",
    "\n",
    "x_array = np.arange(18).reshape(3, 2, 3)\n",
    "x2 = tf.reshape(x_array, shape=(-1, 6))\n",
    "\n",
    "# 각 열의 합을 계산\n",
    "xsum = tf.reduce_sum(x2, axis = 0)\n",
    "xmean = tf.reduce_mean(x2, axis = 0)\n",
    "# 텐서의 합과 곱을 계산함.\n",
    "# axis 는 축소될 차원을 선택한다.\n",
    "# 0 - 행축소 1 - 열축소 becuase [작은차원][큰차원]\n",
    "print('입력 크기:', x_array.shape)\n",
    "print('크기가 변경된 입력\\n', x2.numpy())\n",
    "print('열의 합\\n', xsum.numpy())\n",
    "print('열의 평균\\n', xmean.numpy())"
   ]
  },
  {
   "cell_type": "markdown",
   "metadata": {},
   "source": [
    "## 텐서플로 저수준 api로 간단한 모델 구현"
   ]
  },
  {
   "cell_type": "code",
   "execution_count": 7,
   "metadata": {},
   "outputs": [],
   "source": [
    "X_train = np.arange(10).reshape(10, 1)\n",
    "Y_train = np.array([1.0, 1.3 , 3.1, 2.0, 5.0, 6.3, 6.6, 7.4, 8.0, 9.0])"
   ]
  },
  {
   "cell_type": "code",
   "execution_count": 22,
   "metadata": {},
   "outputs": [],
   "source": [
    "class TfLinreg(object):\n",
    "    def __init__(self, learning_rate = 0.01):\n",
    "        ## 가중치와 절편을 정의\n",
    "        self.w = tf.Variable(tf.zeros(shape=(1)))\n",
    "        self.b = tf.Variable(tf.zeros(shape=(1)))\n",
    "        ## 경사 하강법 옵티마이저를 설정한다.\n",
    "        self.optimizer = tf.keras.optimizers.SGD(lr=learning_rate)\n",
    "        \n",
    "    def fit(self, X, Y, num_epochs = 10):\n",
    "        training_costs = []\n",
    "        for step in range(num_epochs):\n",
    "            ## 자동 미분을 위해 연산 과정을 기록한다.\n",
    "            with tf.GradientTape() as tape:\n",
    "                z_net = self.w * X + self.b\n",
    "                z_net = tf.reshape(z_net, [-1])\n",
    "                sqr_errors = tf.square(Y - z_net)\n",
    "                mean_cost = tf.reduce_mean(sqr_errors)\n",
    "            ## 비용 함수에 대한 가중치의 그래디언트를 계산한다.\n",
    "            grads = tape.gradient(mean_cost, [self.w, self.b])\n",
    "            ## 옵티마이저에 그래디언트를 반영한다.\n",
    "            self.optimizer.apply_gradients(zip(grads, [self.w, self.b]))\n",
    "            ## 비용 함수의 값을 저장한다.\n",
    "            training_costs.append(mean_cost.numpy())\n",
    "        return training_costs\n",
    "    \n",
    "    def predict(self, X):\n",
    "        return self.w * X + self.b\n",
    "    "
   ]
  },
  {
   "cell_type": "code",
   "execution_count": 23,
   "metadata": {},
   "outputs": [],
   "source": [
    "lrmodel = TfLinreg()"
   ]
  },
  {
   "cell_type": "markdown",
   "metadata": {},
   "source": [
    "모델 훈련은 간단하다. fit 메서드를 호출한다. 이 메서드는 에포크 마다 계산된 비용 함수 값을 반환한다."
   ]
  },
  {
   "cell_type": "code",
   "execution_count": 24,
   "metadata": {},
   "outputs": [
    {
     "name": "stdout",
     "output_type": "stream",
     "text": [
      "[32.431, 6.011308, 1.446125, 0.65659344, 0.5193633, 0.4948352, 0.48978764, 0.48811454, 0.48703346, 0.48606348]\n"
     ]
    }
   ],
   "source": [
    "training_costs = lrmodel.fit(X_train, Y_train)\n",
    "print(training_costs)"
   ]
  },
  {
   "cell_type": "code",
   "execution_count": 25,
   "metadata": {},
   "outputs": [
    {
     "data": {
      "image/png": "[encoded data removed]",
      "text/plain": [
       "<Figure size 432x288 with 1 Axes>"
      ]
     },
     "metadata": {
      "needs_background": "light"
     },
     "output_type": "display_data"
    }
   ],
   "source": [
    "import matplotlib.pyplot as plt\n",
    "plt.plot(range(1, len(training_costs) + 1), training_costs)\n",
    "plt.tight_layout()\n",
    "plt.xlabel('Epoch')\n",
    "plt.ylabel('Training Cost')\n",
    "plt.show()"
   ]
  },
  {
   "cell_type": "markdown",
   "metadata": {},
   "source": []
  },
  {
   "cell_type": "code",
   "execution_count": 26,
   "metadata": {},
   "outputs": [
    {
     "data": {
      "text/plain": [
       "[<matplotlib.lines.Line2D at 0x2758392acc8>]"
      ]
     },
     "execution_count": 26,
     "metadata": {},
     "output_type": "execute_result"
    },
    {
     "data": {
      "image/png": "[encoded data removed]",
      "text/plain": [
       "<Figure size 432x288 with 1 Axes>"
      ]
     },
     "metadata": {
      "needs_background": "light"
     },
     "output_type": "display_data"
    }
   ],
   "source": [
    "plt.scatter(X_train, Y_train, marker='s', s=50, label='Training Data')\n",
    "plt.plot(range(X_train.shape[0]), lrmodel.predict(X_train), label = ' LinReg Model')"
   ]
  },
  {
   "cell_type": "code",
   "execution_count": null,
   "metadata": {},
   "outputs": [],
   "source": []
  }
 ],
 "metadata": {
  "kernelspec": {
   "display_name": "Python 3",
   "language": "python",
   "name": "python3"
  },
  "language_info": {
   "codemirror_mode": {
    "name": "ipython",
    "version": 3
   },
   "file_extension": ".py",
   "mimetype": "text/x-python",
   "name": "python",
   "nbconvert_exporter": "python",
   "pygments_lexer": "ipython3",
   "version": "3.7.4"
  }
 },
 "nbformat": 4,
 "nbformat_minor": 2
}
